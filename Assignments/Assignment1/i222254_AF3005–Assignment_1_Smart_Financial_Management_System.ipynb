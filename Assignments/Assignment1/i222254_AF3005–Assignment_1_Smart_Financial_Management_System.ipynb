{
 "cells": [
  {
   "cell_type": "markdown",
   "metadata": {
    "id": "5SRLdaqmHtmP"
   },
   "source": [
    "# **AF3005 – Programming for Finance**  \n",
    "\n",
    "---\n",
    "\n",
    "## **📘 Assignment 1: Smart Financial Management System**  \n",
    "\n",
    "📍 **FAST National University of Computer and Emerging Sciences (FAST-NUCES), Islamabad**  \n",
    "👨‍🏫 **Instructor:** Dr. Usama Arshad (Assistant Professor, FSM)  \n",
    "🎓 **Program:** BS Financial Technology (BSFT)  \n",
    "📅 **Semester:** Spring 2025  \n",
    "📌 **Sections:** BSFT06A, BSFT06B, BSFT06C  \n",
    "\n",
    "---\n",
    "\n",
    "## **🎯 Course Learning Outcomes (CLOs)**  \n",
    "- **CLO1:** Write Python programs to solve basic financial problems.  \n",
    "- **CLO2:** Perform data manipulation and analysis using Python libraries.  \n",
    "\n",
    "---\n",
    "\n",
    "\n",
    "\n",
    "\n",
    "\n",
    "\n",
    "\n",
    "\n",
    "\n",
    "\n",
    "\n"
   ]
  },
  {
   "cell_type": "markdown",
   "metadata": {
    "id": "wXgvxhSVQXNz"
   },
   "source": [
    "\n",
    "# **🟢 Deadline: 15th February 2025**\n",
    "\n",
    "---\n",
    "\n"
   ]
  },
  {
   "cell_type": "markdown",
   "metadata": {
    "id": "mHDXP18hMn3A"
   },
   "source": [
    "## **📥 Submission Guidelines**\n",
    "- **File Format:** Submit your assignment as a Jupyter Notebook file (`.ipynb`).\n",
    "- **Naming Convention:** Use the format `[Your_regno]_AF3005_Assignment1.ipynb`.\n",
    "- **Submission Platform:** Upload your file to **Google Classroom** under the assigned submission.\n",
    "- **GitHub Repository:**\n",
    "  - Create a GitHub repository named `AF3005_ProgrammingForFinance`.\n",
    "  - Upload your `.ipynb` file.\n",
    "  - Ensure the repository is structured properly with a `README.md` explaining the implementation.\n",
    "  - The implementation must include `ipywidgets` for interactive elements.\n",
    "  - Share the GitHub repository link in Google Classroom submission with file.\n",
    "\n",
    "---\n",
    "\n",
    "---\n",
    "\n"
   ]
  },
  {
   "cell_type": "markdown",
   "metadata": {
    "id": "XEanO5EiLdC9"
   },
   "source": [
    "# **🟢 Scenario: Smart Financial Management System [20 marks]**  \n",
    "\n",
    "\n",
    "---\n",
    "\n",
    "\n",
    "SecureBank wants to develop an **automated financial management system** using Python. Your task is to implement different financial operations step by step.\n",
    "\n",
    "This system will:  \n",
    "✅ **Assess customer eligibility for loans.**  \n",
    "✅ **Classify investment portfolios based on risk.**  \n",
    "✅ **Automate loan repayment tracking.**  \n",
    "✅ **Monitor stock market trends and trigger alerts.**  \n",
    "✅ **Track currency exchange rates and suggest conversions.**  \n",
    "\n",
    "Your task is to **break down the requirements, write a structured plan, and implement the logic step by step** using **ipywidgets** for interactive user inputs.\n",
    "\n",
    "---\n",
    "\n"
   ]
  },
  {
   "cell_type": "markdown",
   "metadata": {
    "id": "sIKHzkmkLYYM"
   },
   "source": [
    "## **🟢 Part 1: Loan Eligibility & Interest Rate Calculation [4 marks]**  \n",
    "\n",
    "📌 **Requirement:**  \n",
    "SecureBank only approves loans if the **customer meets all eligibility criteria**. The system should:  \n",
    "✔ **Check if the customer is employed.**  \n",
    "✔ **Verify if the income is at least PKR 50,000.**  \n",
    "✔ **Check credit score:**  \n",
    "   - **750+ → 5% Interest Rate**  \n",
    "   - **650 - 749 → 8% Interest Rate**  \n",
    "   - **Below 650 → Loan Rejected**  \n",
    "✔ **If the applicant is unemployed, the loan is rejected immediately.**  \n",
    "\n",
    "### **Implementation Steps:**  \n",
    "🔹 **Step 1:** Structure the `if-elif-else` statements for this logic.  \n",
    "🔹 **Step 2:** Implement a Python program using **ipywidgets** for interactive user input (income, credit score, employment status) to decide whether the loan is approved or rejected.\n",
    "\n",
    "---"
   ]
  },
  {
   "cell_type": "code",
   "execution_count": 37,
   "metadata": {
    "id": "JnoBYZkTKqRw"
   },
   "outputs": [
    {
     "data": {
      "application/vnd.jupyter.widget-view+json": {
       "model_id": "33862102269342acbf68e32371994f8e",
       "version_major": 2,
       "version_minor": 0
      },
      "text/plain": [
       "ToggleButtons(description='Employment Status', options=(('Employed', True), ('Unemployed', False)), value=True…"
      ]
     },
     "metadata": {},
     "output_type": "display_data"
    },
    {
     "data": {
      "application/vnd.jupyter.widget-view+json": {
       "model_id": "b260b44f8f8c4ff1a6e6f3ca8d2423f1",
       "version_major": 2,
       "version_minor": 0
      },
      "text/plain": [
       "IntText(value=10000, description='Enter Your Income in PKR')"
      ]
     },
     "metadata": {},
     "output_type": "display_data"
    },
    {
     "data": {
      "application/vnd.jupyter.widget-view+json": {
       "model_id": "a103d937d0de41aab8ecabfff274bd9d",
       "version_major": 2,
       "version_minor": 0
      },
      "text/plain": [
       "IntText(value=600, description='Enter Your Credit Score')"
      ]
     },
     "metadata": {},
     "output_type": "display_data"
    },
    {
     "data": {
      "application/vnd.jupyter.widget-view+json": {
       "model_id": "22cb7455d8f94f9a939743c9939250d2",
       "version_major": 2,
       "version_minor": 0
      },
      "text/plain": [
       "Button(description='Submit Information', style=ButtonStyle())"
      ]
     },
     "metadata": {},
     "output_type": "display_data"
    },
    {
     "data": {
      "application/vnd.jupyter.widget-view+json": {
       "model_id": "4a04c5bf1e854d638b608660606a1e31",
       "version_major": 2,
       "version_minor": 0
      },
      "text/plain": [
       "Output()"
      ]
     },
     "metadata": {},
     "output_type": "display_data"
    }
   ],
   "source": [
    "import ipywidgets as widgets\n",
    "from IPython.display import display\n",
    "\n",
    "def eligibility_check(employed, income, c_score):\n",
    "    if not employed:\n",
    "        return \"Loan Rejected as Applicant Is Not Employed\" \n",
    "    elif income < 50000:\n",
    "        return \"Loan Rejected as Applicant's Income Does Not Meet The Required Conditon\"\n",
    "    elif c_score < 650:\n",
    "        return \"Loan Rejected As Applicant's Credit Score is below 650\"\n",
    "    elif 650 <= c_score <= 749:\n",
    "        return \"Loan is Approved at 8% Interest Rate\"\n",
    "    else:\n",
    "        return \"Loan is Approved at 5% Interest Rate\"\n",
    "\n",
    "employment_check = widgets.ToggleButtons(\n",
    "   options = [(\"Employed\", True), (\"Unemployed\", False)],\n",
    "    description = \"Employment Status\",\n",
    ")\n",
    "\n",
    "income_check = widgets.IntText(\n",
    "    value = 10000,\n",
    "    description = \"Enter Your Income in PKR\",\n",
    ")\n",
    "\n",
    "credit_check = widgets.IntText(\n",
    "    value = 600,\n",
    "    description = \"Enter Your Credit Score\",\n",
    ")\n",
    "\n",
    "output = widgets.Output()\n",
    "\n",
    "def submit_btn(_):\n",
    "    with output:\n",
    "        output.clear_output()\n",
    "        result = eligibility_check(employment_check.value, income_check.value, credit_check.value)\n",
    "        print(\"Loan Eligibility Checker\")\n",
    "        print(\"------------------------\")\n",
    "        print(result)\n",
    "    \n",
    "button = widgets.Button(\n",
    "    description = \"Submit Information\"\n",
    ")\n",
    "button.on_click(submit_btn)\n",
    "\n",
    "display(employment_check, income_check, credit_check, button, output)\n"
   ]
  },
  {
   "cell_type": "markdown",
   "metadata": {
    "id": "s66ykZPwKmRL"
   },
   "source": [
    "## **🟢 Part 2: Investment Risk Assessment [4 marks]**  \n",
    "\n",
    "📌 **Requirement:**  \n",
    "SecureBank offers **investment analysis services**. The system should evaluate a **portfolio of stocks** and classify the risk level based on stock returns:  \n",
    "✔ If **any stock has a negative return**, the portfolio is **High Risk**.  \n",
    "✔ If **all stocks have positive returns**, but at least one return is below 5%, classify as **Medium Risk**.  \n",
    "✔ If **all stock returns are 5% or above**, classify as **Low Risk**.  \n",
    "\n",
    "### **Implementation Steps:**  \n",
    "🔹 **Step 1:** Use loops to iterate through the list of stock returns.  \n",
    "🔹 **Step 2:** Implement `if-elif` conditions to classify the risk.  \n",
    "🔹 **Step 3:** Write a Python program using **ipywidgets** to allow users to **input stock returns interactively** and receive a risk assessment.\n",
    "\n",
    "---"
   ]
  },
  {
   "cell_type": "code",
   "execution_count": 29,
   "metadata": {
    "id": "I6Mi2LbOKtym"
   },
   "outputs": [
    {
     "data": {
      "application/vnd.jupyter.widget-view+json": {
       "model_id": "94459ee51c9b4013ba778f6aa2f79181",
       "version_major": 2,
       "version_minor": 0
      },
      "text/plain": [
       "Textarea(value='', placeholder='Separate Your Returns by using , ')"
      ]
     },
     "metadata": {},
     "output_type": "display_data"
    },
    {
     "data": {
      "application/vnd.jupyter.widget-view+json": {
       "model_id": "4c93dbceb9a44576959c1917e8f6bf7e",
       "version_major": 2,
       "version_minor": 0
      },
      "text/plain": [
       "Button(description='Click to Assess Risk', style=ButtonStyle())"
      ]
     },
     "metadata": {},
     "output_type": "display_data"
    },
    {
     "data": {
      "application/vnd.jupyter.widget-view+json": {
       "model_id": "961b09a4bc634dbdbf00a7b3b03206a6",
       "version_major": 2,
       "version_minor": 0
      },
      "text/plain": [
       "Output()"
      ]
     },
     "metadata": {},
     "output_type": "display_data"
    }
   ],
   "source": [
    "#get all the user's input into an array phelay, then check that array using i-elif statements to classify them\n",
    "#users sau input lo in a text box\n",
    "import ipywidgets as widgets\n",
    "from IPython.display import display\n",
    "\n",
    "stocks = []\n",
    "def stock_assesment(stock_returns):\n",
    "        if any(stock < 0 for stock in stock_returns):\n",
    "            return \"High Risk Level Returns\"\n",
    "        elif any(stock < 5 for stock in stock_returns):\n",
    "            return \"Medium Risk Level Returns\"\n",
    "        else:\n",
    "            return \"Low Risk Level Returns\"\n",
    "\n",
    "return_input = widgets.Textarea(\n",
    "    value = \"\",\n",
    "    decription = \"Enter Your Returns\",\n",
    "    placeholder = \"Separate Your Returns by using , \"\n",
    ")\n",
    "\n",
    "user_returns = []\n",
    "output = widgets.Output()\n",
    "\n",
    "def submit_btn(_):\n",
    "    with output:\n",
    "        output.clear_output()\n",
    "        global user_returns\n",
    "        user_returns = list(map(float, return_input.value.split(',')))  \n",
    "        result = stock_assesment(user_returns)\n",
    "        print(\"Investment Risk Assessment\")\n",
    "        print(\"--------------------------\")\n",
    "        print(result)\n",
    "        \n",
    "button = widgets.Button(\n",
    "    description = \"Click to Assess Risk\"\n",
    ")\n",
    "button.on_click(submit_btn)\n",
    "\n",
    "display(return_input, button, output)\n"
   ]
  },
  {
   "cell_type": "markdown",
   "metadata": {
    "id": "xTrlsvaZKhaQ"
   },
   "source": [
    "## **🟢 Part 3: Loan Repayment Tracker [4 marks]**  \n",
    "\n",
    "📌 **Requirement:**  \n",
    "Customers who receive a loan should be able to track their **loan balance** as they make monthly payments. The system should:  \n",
    "✔ Start with an **initial loan balance** (e.g., PKR 500,000).  \n",
    "✔ Deduct a **fixed monthly payment** (e.g., PKR 25,000).  \n",
    "✔ Continue tracking until **loan balance reaches zero**.  \n",
    "✔ Display the remaining balance **after each payment**.  \n",
    "\n",
    "### **Implementation Steps:**  \n",
    "🔹 **Step 1:** Choose an appropriate loop (`for` or `while`).  \n",
    "🔹 **Step 2:** Ensure the loop **stops once the loan is fully paid**.  \n",
    "🔹 **Step 3:** Implement a Python program using **ipywidgets** to **simulate loan repayment interactively**.\n",
    "\n",
    "---"
   ]
  },
  {
   "cell_type": "code",
   "execution_count": 27,
   "metadata": {
    "id": "h3V9vFDjKvGH"
   },
   "outputs": [
    {
     "data": {
      "application/vnd.jupyter.widget-view+json": {
       "model_id": "097da3bda66a492db678496126a0593e",
       "version_major": 2,
       "version_minor": 0
      },
      "text/plain": [
       "IntText(value=500000, description='Enter Your Loan Amount:')"
      ]
     },
     "metadata": {},
     "output_type": "display_data"
    },
    {
     "data": {
      "application/vnd.jupyter.widget-view+json": {
       "model_id": "c6e076d2a7dd4226a7c81c6836c239d9",
       "version_major": 2,
       "version_minor": 0
      },
      "text/plain": [
       "IntText(value=25000, description='Enter Your Monthly Payment Amount')"
      ]
     },
     "metadata": {},
     "output_type": "display_data"
    },
    {
     "data": {
      "application/vnd.jupyter.widget-view+json": {
       "model_id": "20ec7412fc844f098243e1f8d6ec2403",
       "version_major": 2,
       "version_minor": 0
      },
      "text/plain": [
       "Button(description='Click to Check Payments', style=ButtonStyle())"
      ]
     },
     "metadata": {},
     "output_type": "display_data"
    },
    {
     "data": {
      "application/vnd.jupyter.widget-view+json": {
       "model_id": "1d0d0e9a0a384ae2a50200ab28010f76",
       "version_major": 2,
       "version_minor": 0
      },
      "text/plain": [
       "Output()"
      ]
     },
     "metadata": {},
     "output_type": "display_data"
    }
   ],
   "source": [
    "#simple while loop lagana hai bs aur aur har day ka remaining balance bhi dekhaou\n",
    "import ipywidgets as widgets\n",
    "from IPython.display import display\n",
    "\n",
    "def loan_repayment(loan_amount, monthly_payment):\n",
    "    balance = loan_amount\n",
    "    month = 0\n",
    "    while balance > 0:\n",
    "        month += 1\n",
    "        balance -= monthly_payment\n",
    "        print(f\"Month {month}: Remaining Balance = PKR {balance}\")\n",
    "\n",
    "loan_amount_input = widgets.IntText(\n",
    "    value = 500000, \n",
    "    description = \"Enter Your Loan Amount:\"\n",
    ")\n",
    "\n",
    "monthly_payment_input = widgets.IntText(\n",
    "    value = 25000,\n",
    "    description = \"Enter Your Monthly Payment Amount\"\n",
    ")\n",
    "\n",
    "output = widgets.Output()\n",
    "\n",
    "def submit_btn(_):\n",
    "    with output:\n",
    "        output.clear_output()\n",
    "        print(\"Loan Repayment Tracker\")\n",
    "        print(\"----------------------\")\n",
    "        loan_repayment(loan_amount_input.value, monthly_payment_input.value)\n",
    "\n",
    "button = widgets.Button(\n",
    "    description = \"Click to Check Payments\"\n",
    ")\n",
    "\n",
    "button.on_click(submit_btn)\n",
    "\n",
    "display(loan_amount_input, monthly_payment_input, button, output)\n",
    "\n"
   ]
  },
  {
   "cell_type": "markdown",
   "metadata": {
    "id": "3V72WRTcKc17"
   },
   "source": [
    "\n",
    "## **🟢 Part 4: Stock Price Monitoring and Trading Strategy [4 marks]**  \n",
    "\n",
    "📌 **Requirement:**  \n",
    "A stock trader wants to **track stock prices daily** and **sell when the price reaches PKR 200**. The system should:  \n",
    "✔ Iterate through a **list of stock prices**.  \n",
    "✔ **Skip missing stock data** (`None` values).  \n",
    "✔ Stop tracking **once the price reaches PKR 200**.  \n",
    "\n",
    "### **Implementation Steps:**  \n",
    "🔹 **Step 1:** Handle missing stock data using `continue`.  \n",
    "🔹 **Step 2:** Stop tracking once the stock hits the target price (`break`).  \n",
    "🔹 **Step 3:** Write a Python program using **ipywidgets** to **process stock prices interactively** and trigger alerts when conditions are met.\n",
    "\n",
    "---"
   ]
  },
  {
   "cell_type": "code",
   "execution_count": 25,
   "metadata": {
    "id": "G4v6qt6GKwFN"
   },
   "outputs": [
    {
     "data": {
      "application/vnd.jupyter.widget-view+json": {
       "model_id": "6a22e758a8c94a6dacd0d577599a7af4",
       "version_major": 2,
       "version_minor": 0
      },
      "text/plain": [
       "Textarea(value='150, None, 180, 200', description='Stock Prices:', placeholder='Enter stock prices separated b…"
      ]
     },
     "metadata": {},
     "output_type": "display_data"
    },
    {
     "data": {
      "application/vnd.jupyter.widget-view+json": {
       "model_id": "20644cb649e7458ba67e50b01c2922e3",
       "version_major": 2,
       "version_minor": 0
      },
      "text/plain": [
       "Button(description='Track Prices', style=ButtonStyle())"
      ]
     },
     "metadata": {},
     "output_type": "display_data"
    },
    {
     "data": {
      "application/vnd.jupyter.widget-view+json": {
       "model_id": "75609d2706624cacaffb6e34b72fa2ff",
       "version_major": 2,
       "version_minor": 0
      },
      "text/plain": [
       "Output()"
      ]
     },
     "metadata": {},
     "output_type": "display_data"
    }
   ],
   "source": [
    "#just use if-else to check the conditions and use a for loop to go thru the array of stock prices\n",
    "import ipywidgets as widgets\n",
    "from IPython.display import display\n",
    "\n",
    "def stock_assessment(stock_prices):\n",
    "    day = 0\n",
    "    for price in stock_prices:\n",
    "        day += 1\n",
    "        if price is None:\n",
    "            continue\n",
    "        elif price >= 200:\n",
    "            return f\"Stock price reached PKR 200 on Day {day} ! SELL BOII.\"\n",
    "            break\n",
    "    return \"Stock price has not yet reached PKR 200.\"\n",
    "\n",
    "stock_prices_widget = widgets.Textarea(\n",
    "    value=\"150, None, 180, 200\",\n",
    "    description='Stock Prices:',\n",
    "    placeholder=\"Enter stock prices separated by commas\"\n",
    ")\n",
    "\n",
    "output = widgets.Output()\n",
    "\n",
    "def submit_btn(_):\n",
    "    with output:\n",
    "        output.clear_output()\n",
    "        stock_prices = [int(x.strip()) if x.strip().lower() != 'none' and x.strip() else None for x in stock_prices_widget.value.split(',')] # done with help of AI, didnt know how to convert None so it could be checked\n",
    "        result = stock_assessment(stock_prices)\n",
    "        print(\"Stock Price Monitoring\")\n",
    "        print(\"----------------------\")\n",
    "        print(result)\n",
    "\n",
    "button = widgets.Button(\n",
    "    description=\"Track Prices\"\n",
    ")\n",
    "button.on_click(submit_btn)\n",
    "\n",
    "display(stock_prices_widget, button, output)\n"
   ]
  },
  {
   "cell_type": "markdown",
   "metadata": {
    "id": "lD82JT7-KXqK"
   },
   "source": [
    "\n",
    "## **🟢 Part 5: Currency Exchange Rate Tracker [4 marks]**  \n",
    "\n",
    "📌 **Requirement:**  \n",
    "SecureBank provides **real-time currency exchange tracking**. The system should:  \n",
    "✔ Start at **PKR 290/USD**.  \n",
    "✔ Increase by **1 PKR per day** until it reaches **PKR 300/USD**.  \n",
    "✔ Print exchange rates daily and stop when the **target rate is reached**.  \n",
    "\n",
    "### **Implementation Steps:**  \n",
    "🔹 **Step 1:** Choose a suitable loop (`for` or `while`).  \n",
    "🔹 **Step 2:** Stop the loop when the exchange rate reaches the target.  \n",
    "🔹 **Step 3:** Implement a Python program using **ipywidgets** to **track the currency exchange rate interactively**.\n",
    "\n",
    "---"
   ]
  },
  {
   "cell_type": "code",
   "execution_count": 19,
   "metadata": {
    "id": "3xiDWiabKwfr"
   },
   "outputs": [
    {
     "data": {
      "application/vnd.jupyter.widget-view+json": {
       "model_id": "a06c5b43885f4b189c1fdac97181b43d",
       "version_major": 2,
       "version_minor": 0
      },
      "text/plain": [
       "IntText(value=290, description='Start Rate:')"
      ]
     },
     "metadata": {},
     "output_type": "display_data"
    },
    {
     "data": {
      "application/vnd.jupyter.widget-view+json": {
       "model_id": "15bb8cd17aef4c3891f5a424411606d7",
       "version_major": 2,
       "version_minor": 0
      },
      "text/plain": [
       "IntText(value=300, description='Target Rate:')"
      ]
     },
     "metadata": {},
     "output_type": "display_data"
    },
    {
     "data": {
      "application/vnd.jupyter.widget-view+json": {
       "model_id": "11987ad39cd8428eb6a2cc2dcf267e10",
       "version_major": 2,
       "version_minor": 0
      },
      "text/plain": [
       "Button(description='Track Exchange Rate', style=ButtonStyle())"
      ]
     },
     "metadata": {},
     "output_type": "display_data"
    },
    {
     "data": {
      "application/vnd.jupyter.widget-view+json": {
       "model_id": "8c1394d7d45d4e3c97764b90e7f49f99",
       "version_major": 2,
       "version_minor": 0
      },
      "text/plain": [
       "Output()"
      ]
     },
     "metadata": {},
     "output_type": "display_data"
    }
   ],
   "source": [
    "#use while so jab tak exchange rate is less than or equal to 300, keep increasing starting rate by 1\n",
    "import ipywidgets as widgets\n",
    "from IPython.display import display\n",
    "\n",
    "def exchange_tracker(start_rate, target_rate):\n",
    "    exchange_rate = start_rate\n",
    "    day = 0\n",
    "    while exchange_rate <= target_rate:\n",
    "            day += 1\n",
    "            print(f\"Day {day}: PKR {exchange_rate}/USD\")\n",
    "            exchange_rate += 1\n",
    "            if exchange_rate > target_rate:\n",
    "                print(f\"Reached Target Rate on Day {day}\")\n",
    "                break\n",
    "\n",
    "start_rate = widgets.IntText(\n",
    "    value = 290,\n",
    "    description = \"Start Rate:\"\n",
    ")\n",
    "\n",
    "target_rate = widgets.IntText(\n",
    "    value = 300,\n",
    "    description = \"Target Rate:\"\n",
    ")\n",
    "\n",
    "output = widgets.Output()\n",
    "\n",
    "def submit_btn(_):\n",
    "    with output:\n",
    "        output.clear_output()\n",
    "        print(\"Currency Exchange Rate Tracker\")\n",
    "        print(\"------------------------------\")\n",
    "        exchange_tracker(start_rate.value, target_rate.value)\n",
    "\n",
    "\n",
    "button = widgets.Button(\n",
    "    description=\"Track Exchange Rate\"\n",
    ")\n",
    "\n",
    "button.on_click(submit_btn)\n",
    "\n",
    "display(start_rate, target_rate, button, output)"
   ]
  },
  {
   "cell_type": "markdown",
   "metadata": {
    "id": "-gpSKR0APnLP"
   },
   "source": [
    "*   \n",
    "*\n",
    "*   \n",
    "*   \n",
    "*   \n",
    "*\n",
    "*   \n",
    "*"
   ]
  },
  {
   "cell_type": "markdown",
   "metadata": {
    "id": "hUFnFKjmKxeH"
   },
   "source": [
    "\n",
    "\n",
    "---\n",
    "\n",
    "\n",
    "======================================== *to err is human* ========================================\n",
    "\n",
    "\n",
    "---\n",
    "\n"
   ]
  },
  {
   "cell_type": "markdown",
   "metadata": {
    "id": "E2rlRDSuPPRt"
   },
   "source": [
    "*   \n",
    "*\n",
    "*   \n",
    "*   \n",
    "*   \n",
    "*\n",
    "*   \n",
    "*\n",
    "\n",
    "---\n",
    "\n",
    "## **🎯 Grading Rubric (20 Marks)**  \n",
    "\n",
    "| **Criteria**           | **🌟 Excellent (4 Marks)** | **✅ Good (3 Marks)** | **⚠️ Satisfactory (2 Marks)** | **❌ Needs Improvement (1 Mark)** | **🚫 No Attempt (0 Marks)** |\n",
    "|------------------------|-----------------------|------------------|----------------------|----------------------|----------------------|\n",
    "| **📝 Loan Eligibility System**  | ✅ Correct logic with `ipywidgets`, handles user input well. | ⚠️ Mostly correct logic, minor issues. | ❌ Basic logic but missing conditions. | 🚫 Major errors in implementation. | ❌ No implementation. |\n",
    "| **📊 Investment Risk Assessment**  | ✅ Efficient looping with correct risk classification and `ipywidgets`. | ⚠️ Minor issues in logic or implementation. | ❌ Some conditions missing, basic implementation. | 🚫 Incorrect or incomplete logic. | ❌ No implementation. |\n",
    "| **💰 Loan Repayment Tracker**  | ✅ Tracks repayment correctly, interactive using `ipywidgets`. | ⚠️ Correct logic but missing interactivity. | ❌ Loop present but some logic missing. | 🚫 Incorrect approach. | ❌ No implementation. |\n",
    "| **📈 Stock Price Monitoring**  | ✅ Proper use of `continue` and `break`, handles missing values. | ⚠️ Minor logic issues, mostly correct. | ❌ Some conditions missing, partially correct. | 🚫 Incorrect logic, missing key elements. | ❌ No implementation. |\n",
    "| **💹 Currency Exchange Tracker**  | ✅ Correct loop, stops at target rate, structured well with `ipywidgets`. | ⚠️ Mostly correct, minor inefficiencies. | ❌ Incorrect stopping condition, basic implementation. | 🚫 Incorrect approach. | ❌ No implementation. |\n",
    "| **📜 Code Quality & Structure**  | ✅ Well-commented, clean code, follows best practices. | ⚠️ Mostly structured but needs better readability. | ❌ Works but lacks clarity. | 🚫 Unstructured, lacks comments. | ❌ No code present. |\n",
    "| **🎛️ Use of `ipywidgets`** | ✅ Used effectively in all parts, enhances interactivity. | ⚠️ Used in most parts but minor inefficiencies. | ❌ Implemented but not fully functional. | 🚫 Attempted but not used correctly. | ❌ No implementation. |\n",
    "| **📂 GitHub Submission & Documentation** | ✅ Well-structured repo, proper `README.md`. | ⚠️ Repo exists but lacks structured documentation. | ❌ Basic submission, missing details. | 🚫 Attempted but incomplete. | ❌ No submission. |\n",
    "| **📤 Google Classroom Submission** | ✅ Submitted correctly with all required elements. | ⚠️ Submitted but missing minor details. | ❌ Late submission or incomplete. | 🚫 Attempted but missing key parts. | ❌ No submission. |\n",
    "| **🔎 Overall Implementation & Accuracy** | ✅ All features implemented correctly, runs smoothly. | ⚠️ Most features implemented, minor issues. | ❌ Some features missing but basic functionality works. | 🚫 Major features missing. | ❌ No implementation. |\n",
    "\n",
    "---\n",
    "\n"
   ]
  },
  {
   "cell_type": "markdown",
   "metadata": {
    "id": "-_kwwSB6PiZp"
   },
   "source": [
    "*Follow the deadline. This is an individual assignment. Do not copy/paste from LLMs or from other students.*"
   ]
  }
 ],
 "metadata": {
  "colab": {
   "provenance": []
  },
  "kernelspec": {
   "display_name": "Python [conda env:base] *",
   "language": "python",
   "name": "conda-base-py"
  },
  "language_info": {
   "codemirror_mode": {
    "name": "ipython",
    "version": 3
   },
   "file_extension": ".py",
   "mimetype": "text/x-python",
   "name": "python",
   "nbconvert_exporter": "python",
   "pygments_lexer": "ipython3",
   "version": "3.12.7"
  }
 },
 "nbformat": 4,
 "nbformat_minor": 4
}
